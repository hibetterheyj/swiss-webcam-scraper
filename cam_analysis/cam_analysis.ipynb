{
 "cells": [
  {
   "cell_type": "markdown",
   "id": "39770b0f",
   "metadata": {},
   "source": [
    "# Webcam analysis"
   ]
  },
  {
   "cell_type": "code",
   "execution_count": 1,
   "id": "07cc6407",
   "metadata": {},
   "outputs": [],
   "source": [
    "import os\n",
    "import pandas\n",
    "\n",
    "from geopy.geocoders import Nominatim\n",
    "user_agent = \"Mozilla/5.0 (Windows NT 10.0; Win64; x64) AppleWebKit/537.36 (KHTML, like Gecko) Chrome/96.0.4664.110 Safari/537.36\"\n",
    "\n",
    "from util import get_canton_from_latlon\n",
    "from get_data_json import get_cam_loc, get_cam_frame"
   ]
  },
  {
   "cell_type": "code",
   "execution_count": 2,
   "id": "316188e6",
   "metadata": {},
   "outputs": [],
   "source": [
    "cam_loc_json = get_cam_loc()\n",
    "cam_info_json = get_cam_frame()"
   ]
  },
  {
   "cell_type": "code",
   "execution_count": 3,
   "id": "8ac86c0e",
   "metadata": {},
   "outputs": [
    {
     "data": {
      "text/plain": [
       "{'cam': {'longitude': 8.50748,\n",
       "  'latitude': 47.310213,\n",
       "  'altitude': 800,\n",
       "  'angle': 180,\n",
       "  'north': 30},\n",
       " 'instances': {'515': {'url': 'https://laf.roundshot.com/',\n",
       "   'title': 'Adliswil-Felsenegg Luftseilbahn LAF AG'}}}"
      ]
     },
     "execution_count": 3,
     "metadata": {},
     "output_type": "execute_result"
    }
   ],
   "source": [
    "loc_col_example = list(cam_loc_json.values())[0]\n",
    "loc_col_example"
   ]
  },
  {
   "cell_type": "markdown",
   "id": "90bb118a",
   "metadata": {},
   "source": [
    "## Webcam location info"
   ]
  },
  {
   "cell_type": "code",
   "execution_count": 4,
   "id": "b98d5f9e",
   "metadata": {},
   "outputs": [
    {
     "name": "stdout",
     "output_type": "stream",
     "text": [
      "cam_id: 467\n",
      "longitude: 8.50748\n",
      "latitude: 47.310213\n",
      "altitude: 800\n",
      "angle: 180\n",
      "north: 30\n",
      "longitude: 8.50748\n",
      "instance_id: 515\n",
      "cam_link: https://laf.roundshot.com/\n",
      "cam_name: Adliswil-Felsenegg Luftseilbahn LAF AG\n",
      "cam_abbr: laf\n"
     ]
    }
   ],
   "source": [
    "cam_id = list(cam_loc_json.keys())[0]\n",
    "\n",
    "longitude = list(cam_loc_json.values())[0]['cam']['longitude']\n",
    "latitude = list(cam_loc_json.values())[0]['cam']['latitude']\n",
    "altitude = list(cam_loc_json.values())[0]['cam']['altitude']\n",
    "angle = list(cam_loc_json.values())[0]['cam']['angle']\n",
    "north = list(cam_loc_json.values())[0]['cam']['north']\n",
    "\n",
    "# loc_col_example = list(cam_loc_json.values())[0]\n",
    "instance_id = list(loc_col_example['instances'].keys())[0]\n",
    "\n",
    "cam_link = list(loc_col_example['instances'].values())[0]['url']\n",
    "\n",
    "cam_name = list(loc_col_example['instances'].values())[0]['title']\n",
    "\n",
    "cam_link_ = cam_link.split('/')\n",
    "cam_abbr = cam_link_[2].split('.')[0]\n",
    "if len(cam_link_) > 4:\n",
    "    cam_abbr = cam_abbr + '_' + cam_link_[3]\n",
    "\n",
    "print('cam_id:', cam_id)\n",
    "print('longitude:', longitude)\n",
    "print('latitude:', latitude)\n",
    "print('altitude:', altitude)\n",
    "print('angle:', angle)\n",
    "print('north:', north)\n",
    "print('longitude:', longitude)\n",
    "print('instance_id:', instance_id)\n",
    "print('cam_link:', cam_link)\n",
    "print('cam_name:', cam_name)\n",
    "print('cam_abbr:', cam_abbr)"
   ]
  },
  {
   "cell_type": "code",
   "execution_count": 5,
   "id": "5c30b0c7",
   "metadata": {
    "scrolled": false
   },
   "outputs": [
    {
     "data": {
      "text/plain": [
       "('Valais', 'Vaud', 'Zürich')"
      ]
     },
     "execution_count": 5,
     "metadata": {},
     "output_type": "execute_result"
    }
   ],
   "source": [
    "canton1, _ = get_canton_from_latlon(46.07844, 7.77628) # Zermatt\n",
    "canton2, _ = get_canton_from_latlon(46.507854, 6.498673) # Morges - Port\n",
    "canton3, _ = get_canton_from_latlon(47.36931, 8.541663) # Zurich Stadthaus\n",
    "canton1, canton2, canton3"
   ]
  },
  {
   "cell_type": "markdown",
   "id": "df41f799",
   "metadata": {},
   "source": [
    "## Webcam info"
   ]
  },
  {
   "cell_type": "code",
   "execution_count": 6,
   "id": "5c91defa",
   "metadata": {},
   "outputs": [
    {
     "name": "stdout",
     "output_type": "stream",
     "text": [
      "Schools 5\n",
      "Hospitals 11\n",
      "Airports 10\n",
      "Tourism associations 63\n",
      "Golf clubs 1\n",
      "Museums 1\n",
      "Restaurants 5\n",
      "Harbors 5\n",
      "Villages 28\n",
      "Ski resorts 131\n",
      "Weather cams 4\n",
      "Corporates 28\n",
      "Construction sites 22\n",
      "Cities 9\n",
      "Hotels 21\n",
      "All 345\n"
     ]
    }
   ],
   "source": [
    "for k in cam_info_json['categories'].keys():\n",
    "    print(k, len(cam_info_json['categories'][k]))\n",
    "print('All', len(cam_loc_json.values()))"
   ]
  },
  {
   "cell_type": "code",
   "execution_count": 7,
   "id": "d93b1b52",
   "metadata": {},
   "outputs": [
    {
     "data": {
      "text/plain": [
       "dict_keys(['picture', 'link', 'angle', 'name', 'cam_name', 'customer_name'])"
      ]
     },
     "execution_count": 7,
     "metadata": {},
     "output_type": "execute_result"
    }
   ],
   "source": [
    "info_col_names = cam_info_json['categories']['Cities'][0].keys()\n",
    "info_col_names"
   ]
  },
  {
   "cell_type": "code",
   "execution_count": 8,
   "id": "cd18c6c0",
   "metadata": {},
   "outputs": [
    {
     "name": "stdout",
     "output_type": "stream",
     "text": [
      "category: Schools\n",
      "thumbnail_url: https://backend.roundshot.com/cams/514/thumbnail\n",
      "cam_link: https://aigloncollege.roundshot.com/\n",
      "angle: 360\n",
      "name: Aiglon College\n",
      "cam_name: Aiglon College\n",
      "customer_name: Aiglon College\n",
      "cam_abbr: aigloncollege\n"
     ]
    }
   ],
   "source": [
    "category = list(cam_info_json['categories'].keys())[0]\n",
    "cam_info_example = cam_info_json['categories'][category][0]\n",
    "thumbnail_url = cam_info_example[\"picture\"]\n",
    "cam_link = cam_info_example[\"link\"]\n",
    "angle = cam_info_example[\"angle\"]\n",
    "name = cam_info_example[\"name\"] # cam_name - customer_name or equal to cam_name/customer_name\n",
    "cam_name = cam_info_example[\"cam_name\"]\n",
    "customer_name = cam_info_example[\"customer_name\"]\n",
    "cam_link_ = cam_link.split('/')\n",
    "cam_abbr = cam_link_[2].split('.')[0]\n",
    "if len(cam_link_) > 4:\n",
    "    cam_abbr = cam_abbr + '_' + cam_link_[3]\n",
    "\n",
    "print('category:', category)\n",
    "print('thumbnail_url:', thumbnail_url)\n",
    "print('cam_link:', cam_link)\n",
    "print('angle:', angle)\n",
    "print('name:', name)\n",
    "print('cam_name:', cam_name)\n",
    "print('customer_name:', customer_name)\n",
    "print('cam_abbr:', cam_abbr)"
   ]
  },
  {
   "cell_type": "code",
   "execution_count": 9,
   "id": "6763e3a0",
   "metadata": {},
   "outputs": [],
   "source": [
    "import requests\n",
    "\n",
    "headers = {\n",
    "    \"User-Agent\": \"Mozilla/5.0 (Windows NT 10.0; Win64; x64) AppleWebKit/537.36 (KHTML, like Gecko) Chrome/96.0.4664.110 Safari/537.36\"\n",
    "}\n",
    "response = requests.get(thumbnail_url, stream=True, headers=headers)"
   ]
  },
  {
   "cell_type": "code",
   "execution_count": 10,
   "id": "0f9caa34",
   "metadata": {},
   "outputs": [
    {
     "name": "stdout",
     "output_type": "stream",
     "text": [
      "200\n",
      "https://storage2.roundshot.com/576c4aa94999f3.08977207/2021-12-26/16-50-00/2021-12-26-16-50-00_thumbnail.jpg\n",
      "webcam_stored_url of aigloncollege https://storage2.roundshot.com/576c4aa94999f3.08977207\n"
     ]
    }
   ],
   "source": [
    "# print(dir(response))\n",
    "print(response.status_code)\n",
    "print(response.url)\n",
    "# https://stackoverflow.com/a/35616488\n",
    "webcam_stored_url = response.url.rsplit('/', 3)[0]\n",
    "print('webcam_stored_url of', cam_abbr, webcam_stored_url)"
   ]
  },
  {
   "cell_type": "markdown",
   "id": "1db4a111",
   "metadata": {},
   "source": [
    "## Test"
   ]
  },
  {
   "cell_type": "code",
   "execution_count": 11,
   "id": "8e761d5c",
   "metadata": {
    "scrolled": false
   },
   "outputs": [
    {
     "name": "stdout",
     "output_type": "stream",
     "text": [
      "Felseneggbahn, 8, Felseneggweg, Buchenegg, Stallikon, Bezirk Affoltern, Zürich, 8143, Schweiz/Suisse/Svizzera/Svizra\n"
     ]
    }
   ],
   "source": [
    "# https://github.com/geopy/geopy#geocoding\n",
    "user_agent = \"Mozilla/5.0 (Windows NT 10.0; Win64; x64) AppleWebKit/537.36 (KHTML, like Gecko) Chrome/96.0.4664.110 Safari/537.36\"\n",
    "\n",
    "geolocator = Nominatim(user_agent=user_agent)\n",
    "latitude, longitude = 47.310213, 8.50748 # example\n",
    "# Felseneggbahn, 8, Felseneggweg, Buchenegg, Stallikon, Bezirk Affoltern, Zürich, 8143, Schweiz/Suisse/Svizzera/Svizra\n",
    "location = geolocator.reverse(\n",
    "    query =(latitude, longitude),\n",
    "    exactly_one = True,\n",
    "    timeout=10,\n",
    ")\n",
    "print(location.address)\n",
    "# print('address raw:', location.raw)"
   ]
  },
  {
   "cell_type": "code",
   "execution_count": 12,
   "id": "b0bae61e",
   "metadata": {},
   "outputs": [
    {
     "data": {
      "text/plain": [
       "['Felseneggbahn',\n",
       " '8',\n",
       " 'Felseneggweg',\n",
       " 'Buchenegg',\n",
       " 'Stallikon',\n",
       " 'BezirkAffoltern',\n",
       " 'Zürich',\n",
       " '8143',\n",
       " 'Schweiz/Suisse/Svizzera/Svizra']"
      ]
     },
     "execution_count": 12,
     "metadata": {},
     "output_type": "execute_result"
    }
   ],
   "source": [
    "location.address.replace(\" \", \"\").split(\",\")"
   ]
  },
  {
   "cell_type": "code",
   "execution_count": null,
   "id": "d1c4c913",
   "metadata": {},
   "outputs": [],
   "source": []
  }
 ],
 "metadata": {
  "kernelspec": {
   "display_name": "Python 3 (ipykernel)",
   "language": "python",
   "name": "python3"
  },
  "language_info": {
   "codemirror_mode": {
    "name": "ipython",
    "version": 3
   },
   "file_extension": ".py",
   "mimetype": "text/x-python",
   "name": "python",
   "nbconvert_exporter": "python",
   "pygments_lexer": "ipython3",
   "version": "3.8.12"
  }
 },
 "nbformat": 4,
 "nbformat_minor": 5
}
